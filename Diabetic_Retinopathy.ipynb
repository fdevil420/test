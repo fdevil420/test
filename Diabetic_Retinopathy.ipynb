{
  "cells": [
    {
      "cell_type": "markdown",
      "metadata": {
        "id": "view-in-github",
        "colab_type": "text"
      },
      "source": [
        "<a href=\"https://colab.research.google.com/github/fdevil420/test/blob/main/Diabetic_Retinopathy.ipynb\" target=\"_parent\"><img src=\"https://colab.research.google.com/assets/colab-badge.svg\" alt=\"Open In Colab\"/></a>"
      ]
    },
    {
      "cell_type": "code",
      "execution_count": null,
      "metadata": {
        "id": "sweNoeWKBwes"
      },
      "outputs": [],
      "source": []
    },
    {
      "cell_type": "code",
      "source": [
        "from google.colab import drive\n",
        "drive.mount('/content/drive')"
      ],
      "metadata": {
        "id": "rU3A91l2aBeT"
      },
      "execution_count": null,
      "outputs": []
    },
    {
      "cell_type": "code",
      "execution_count": null,
      "metadata": {
        "id": "1fQ5XjtXB36F"
      },
      "outputs": [],
      "source": [
        "import zipfile\n",
        "import os"
      ]
    },
    {
      "cell_type": "code",
      "execution_count": null,
      "metadata": {
        "id": "1SWkc7o6M5Hp"
      },
      "outputs": [],
      "source": [
        "zip_file_path = '/content/drive/MyDrive/final year project/dataset/train.zip'\n",
        "extract_path = '/content/sample_data'"
      ]
    },
    {
      "cell_type": "code",
      "execution_count": null,
      "metadata": {
        "id": "5XBbm_4bV4Ci"
      },
      "outputs": [],
      "source": [
        "zip_file_path = '/content/drive/MyDrive/final year project/dataset/test.zip'\n",
        "extract_path = '/content/sample_data'"
      ]
    },
    {
      "cell_type": "code",
      "execution_count": null,
      "metadata": {
        "id": "XcO5rPX6M7VZ"
      },
      "outputs": [],
      "source": [
        "zip_file_path = '/content/drive/MyDrive/final year project/dataset/val.zip'\n",
        "extract_path = '/content/sample_data'"
      ]
    },
    {
      "cell_type": "code",
      "execution_count": null,
      "metadata": {
        "colab": {
          "base_uri": "https://localhost:8080/"
        },
        "id": "9NG3kHe_M-O-",
        "outputId": "95658ef0-2a70-4b4e-a6b6-ed77c5d08ca7"
      },
      "outputs": [
        {
          "output_type": "stream",
          "name": "stdout",
          "text": [
            "Extraction successful.\n"
          ]
        }
      ],
      "source": [
        "if not os.path.exists(zip_file_path):\n",
        "    print(f\"The file '{zip_file_path}' does not exist.\")\n",
        "else:\n",
        "    # Create the extraction directory if it doesn't exist\n",
        "    os.makedirs(extract_path, exist_ok=True)\n",
        "\n",
        "    # Try to extract the contents of the zip file\n",
        "    try:\n",
        "        with zipfile.ZipFile(zip_file_path, 'r') as zip_ref:\n",
        "            zip_ref.extractall(extract_path)\n",
        "        print(\"Extraction successful.\")\n",
        "    except zipfile.BadZipFile:\n",
        "        print(\"Error: The file is not a valid zip file.\")"
      ]
    },
    {
      "cell_type": "markdown",
      "metadata": {
        "id": "dRGztNdDVXs5"
      },
      "source": [
        "## **LIBRARIES**"
      ]
    },
    {
      "cell_type": "code",
      "execution_count": 1,
      "metadata": {
        "id": "rs_-xuxYOBuL"
      },
      "outputs": [],
      "source": [
        "import tensorflow as tf\n",
        "from tensorflow import keras\n",
        "from tensorflow.keras import layers\n",
        "from tensorflow.keras.applications import ResNet152\n",
        "from tensorflow.keras.applications.resnet import preprocess_input\n",
        "from tensorflow.keras.preprocessing.image import ImageDataGenerator\n",
        "from sklearn.metrics import classification_report, confusion_matrix, roc_curve, auc\n",
        "from sklearn.utils.class_weight import compute_class_weight\n",
        "import numpy as np\n",
        "import matplotlib.pyplot as plt\n",
        "import zipfile\n",
        "import os"
      ]
    },
    {
      "cell_type": "markdown",
      "metadata": {
        "id": "04H9FSpbVqqo"
      },
      "source": [
        "### **DATASET**"
      ]
    },
    {
      "cell_type": "code",
      "source": [
        "file_paths = [\n",
        "    ('/content/drive/MyDrive/final year project/dataset/train.zip', '/content/sample_data'),\n",
        "    ('/content/drive/MyDrive/final year project/dataset/test.zip', '/content/sample_data'),\n",
        "    ('/content/drive/MyDrive/final year project/dataset/val.zip', '/content/sample_data')\n",
        "]\n"
      ],
      "metadata": {
        "id": "Yd-UBMvi-J7A"
      },
      "execution_count": 2,
      "outputs": []
    },
    {
      "cell_type": "code",
      "source": [
        "for zip_file_path, extract_path in file_paths:\n",
        "    if not os.path.exists(zip_file_path):\n",
        "        print(f\"The file '{zip_file_path}' does not exist.\")\n",
        "    else:\n",
        "        # Create the extraction directory if it doesn't exist\n",
        "        os.makedirs(extract_path, exist_ok=True)\n",
        "\n",
        "        # Try to extract the contents of the zip file\n",
        "        try:\n",
        "            with zipfile.ZipFile(zip_file_path, 'r') as zip_ref:\n",
        "                zip_ref.extractall(extract_path)\n",
        "            print(\"Extraction successful.\")\n",
        "        except zipfile.BadZipFile:\n",
        "            print(\"Error: The file is not a valid zip file.\")"
      ],
      "metadata": {
        "id": "sOJwrJ4s-KYo"
      },
      "execution_count": null,
      "outputs": []
    },
    {
      "cell_type": "code",
      "execution_count": null,
      "metadata": {
        "id": "9sUWI4tKOC4B"
      },
      "outputs": [],
      "source": [
        "train =  '/content/sample_data/train'\n",
        "val = '/content/sample_data/val'\n",
        "test = '/content/sample_data/test'"
      ]
    },
    {
      "cell_type": "markdown",
      "metadata": {
        "id": "Px6xf-C6Zxej"
      },
      "source": [
        "### **MODEL**"
      ]
    },
    {
      "cell_type": "code",
      "execution_count": null,
      "metadata": {
        "id": "THHITipmZjAG"
      },
      "outputs": [],
      "source": [
        "# Load ResNet152 model pre-trained on ImageNet data\n",
        "base_model = ResNet152(weights='imagenet', include_top=False, input_shape=(255, 255, 3))\n",
        "\n",
        "# Unfreeze the base model for fine-tuning\n",
        "base_model.trainable = True\n",
        "\n",
        "# Create your own model by adding custom layers on top of the pre-trained model\n"
      ]
    },
    {
      "cell_type": "code",
      "execution_count": null,
      "metadata": {
        "id": "Epm9qZGXZ1Us"
      },
      "outputs": [],
      "source": [
        "model = keras.Sequential([\n",
        "    base_model,\n",
        "    layers.GlobalAveragePooling2D(),\n",
        "    layers.Dense(128, activation='relu'),\n",
        "    layers.Dropout(0.5),\n",
        "    layers.Dense(5, activation='softmax')  # Adjust the output units based on the number of classes\n",
        "])"
      ]
    },
    {
      "cell_type": "code",
      "execution_count": null,
      "metadata": {
        "id": "eSz7G_3PZ9M9"
      },
      "outputs": [],
      "source": [
        "model.summary()\n"
      ]
    },
    {
      "cell_type": "code",
      "execution_count": null,
      "metadata": {
        "id": "je5RMK4euOVJ"
      },
      "outputs": [],
      "source": [
        "seed_value = 42  # Seed for random transformations (change this value as needed)\n",
        "np.random.seed(seed_value)\n",
        "\n",
        "train_datagen = ImageDataGenerator(\n",
        "    preprocessing_function=preprocess_input,\n",
        "    rotation_range=20,  # Random rotation\n",
        "    width_shift_range=0.2,  # Random horizontal shift\n",
        "    height_shift_range=0.2,  # Random vertical shift\n",
        "    shear_range=0.2,  # Shear intensity\n",
        "    zoom_range=0.2,  # Random zoom\n",
        "    horizontal_flip=True,  # Random horizontal flip\n",
        "    vertical_flip=True,  # Random vertical flip\n",
        "    fill_mode='nearest'  # Fill mode for handling points outside the input boundaries\n",
        ")\n",
        "\n",
        "\n",
        "val_datagen = ImageDataGenerator(rescale=1./255)\n"
      ]
    },
    {
      "cell_type": "code",
      "execution_count": null,
      "metadata": {
        "id": "8zhJxo7sHqCu"
      },
      "outputs": [],
      "source": [
        "model.compile(optimizer=tf.keras.optimizers.Adam(1e-5), loss='categorical_crossentropy', metrics=['accuracy'])"
      ]
    },
    {
      "cell_type": "code",
      "execution_count": null,
      "metadata": {
        "id": "lFXJp4FWaHTI"
      },
      "outputs": [],
      "source": [
        "\n",
        "\n",
        "# Example paths, replace with your actual dataset paths\n",
        "train_data_dir = train\n",
        "validation_data_dir = val\n",
        "\n",
        "train_generator = train_datagen.flow_from_directory(\n",
        "    train_data_dir,\n",
        "    target_size=(256, 256),\n",
        "    batch_size=32,\n",
        "    class_mode='categorical'\n",
        ")\n",
        "\n",
        "validation_generator = val_datagen.flow_from_directory(\n",
        "    validation_data_dir,\n",
        "    target_size=(256, 256),\n",
        "    batch_size=32,\n",
        "    class_mode='categorical'\n",
        ")"
      ]
    },
    {
      "cell_type": "code",
      "execution_count": null,
      "metadata": {
        "id": "1LEJUOWBAB_x"
      },
      "outputs": [],
      "source": [
        "history = model.fit(train_generator, epochs=15, validation_data=validation_generator)\n",
        "\n",
        "# Evaluate the model\n",
        "test_loss, test_acc = model.evaluate(validation_generator)\n",
        "print(f'Test accuracy: {test_acc}')"
      ]
    },
    {
      "cell_type": "code",
      "source": [
        "model.save(\"my_model.h5\")"
      ],
      "metadata": {
        "id": "I_a-CPe9WpaW"
      },
      "execution_count": null,
      "outputs": []
    },
    {
      "cell_type": "code",
      "execution_count": null,
      "metadata": {
        "id": "RYsNmDPIaUNI"
      },
      "outputs": [],
      "source": [
        "# Make predictions\n",
        "Y_pred = model.predict(validation_generator)\n",
        "y_pred = tf.argmax(Y_pred, axis=1)\n",
        "\n",
        "# Convert one-hot encoded labels to integers\n",
        "y_true = validation_generator.classes\n",
        "\n",
        "# Classification Report\n",
        "print(\"\\nClassification Report:\\n\", classification_report(y_true, y_pred))\n",
        "\n",
        "# Confusion Matrix\n",
        "conf_matrix = confusion_matrix(y_true, y_pred)\n",
        "print(\"\\nConfusion Matrix:\\n\", conf_matrix)\n",
        "\n",
        "# Calculate ROC curve and AUC-ROC for each class\n",
        "fpr = dict()\n",
        "tpr = dict()\n",
        "roc_auc = dict()\n",
        "\n",
        "for i in range(5):  # Assuming 5 classes\n",
        "    fpr[i], tpr[i], _ = roc_curve(y_true == i, Y_pred[:, i])\n",
        "    roc_auc[i] = auc(fpr[i], tpr[i])\n",
        "\n",
        "# Plot ROC curves\n",
        "plt.figure(figsize=(10, 8))\n",
        "for i in range(5):\n",
        "    plt.plot(fpr[i], tpr[i], label=f'Class {i} (AUC = {roc_auc[i]:.2f})')\n",
        "\n",
        "plt.plot([0, 1], [0, 1], 'k--', label='Random')\n",
        "plt.xlabel('False Positive Rate')\n",
        "plt.ylabel('True Positive Rate')\n",
        "plt.title('ROC Curve for each class')\n",
        "plt.legend(loc='lower right')\n",
        "plt.show()\n",
        "\n",
        "# Plot accuracy graph\n",
        "plt.plot(history.history['accuracy'])\n",
        "plt.plot(history.history['val_accuracy'])\n",
        "plt.title('Model Accuracy')\n",
        "plt.xlabel('Epoch')\n",
        "plt.ylabel('Accuracy')\n",
        "plt.legend(['Train', 'Validation'], loc='upper left')\n",
        "plt.show()\n",
        "\n",
        "# Plot loss graph\n",
        "plt.plot(history.history['loss'])\n",
        "plt.plot(history.history['val_loss'])\n",
        "plt.title('Model Loss')\n",
        "plt.xlabel('Epoch')\n",
        "plt.ylabel('Loss')\n",
        "plt.legend(['Train', 'Validation'], loc='upper left')\n",
        "plt.show()"
      ]
    },
    {
      "cell_type": "code",
      "source": [],
      "metadata": {
        "id": "ZaMReezgbjgN"
      },
      "execution_count": null,
      "outputs": []
    }
  ],
  "metadata": {
    "accelerator": "GPU",
    "colab": {
      "gpuType": "T4",
      "provenance": [],
      "mount_file_id": "1hax1h8_jkegm2fBrXaueQ9fHIutevBTy",
      "authorship_tag": "ABX9TyPTA4P25guzil2+hdg6sa0s",
      "include_colab_link": true
    },
    "kernelspec": {
      "display_name": "Python 3",
      "name": "python3"
    },
    "language_info": {
      "name": "python"
    }
  },
  "nbformat": 4,
  "nbformat_minor": 0
}